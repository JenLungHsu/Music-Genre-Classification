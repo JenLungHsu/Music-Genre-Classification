{
 "cells": [
  {
   "cell_type": "markdown",
   "metadata": {},
   "source": [
    "## 0. 載入套件"
   ]
  },
  {
   "cell_type": "code",
   "execution_count": 1,
   "metadata": {},
   "outputs": [],
   "source": [
    "import librosa\n",
    "import os\n",
    "import numpy as np\n",
    "\n",
    "from sklearn.model_selection import cross_val_score, train_test_split, StratifiedKFold, GridSearchCV\n",
    "from sklearn.metrics import accuracy_score\n",
    "from sklearn.preprocessing import StandardScaler\n",
    "\n",
    "from sklearn.linear_model import LogisticRegression\n",
    "from sklearn.ensemble import RandomForestClassifier, GradientBoostingClassifier, AdaBoostClassifier\n",
    "from sklearn.svm import SVC, LinearSVC\n",
    "from sklearn.mixture import GaussianMixture\n",
    "from sklearn.neighbors import KNeighborsClassifier\n",
    "from sklearn.naive_bayes import GaussianNB, MultinomialNB\n",
    "from sklearn.tree import DecisionTreeClassifier\n",
    "from sklearn.neural_network import MLPClassifier\n",
    "# import xgboost as xgb\n",
    "# import lightgbm as lgb\n",
    "# from catboost import CatBoostClassifier\n",
    "\n",
    "from sklearn.metrics import confusion_matrix\n",
    "import matplotlib.pyplot as plt\n",
    "import seaborn as sns\n",
    "\n",
    "import warnings\n",
    "from sklearn.exceptions import ConvergenceWarning, FitFailedWarning \n",
    "warnings.filterwarnings(\"ignore\", category=FutureWarning)\n",
    "warnings.filterwarnings(\"ignore\", category=ConvergenceWarning)\n",
    "warnings.filterwarnings(\"ignore\", category=FitFailedWarning)\n"
   ]
  },
  {
   "cell_type": "markdown",
   "metadata": {},
   "source": [
    "## 1. 準備數據集："
   ]
  },
  {
   "cell_type": "code",
   "execution_count": 3,
   "metadata": {},
   "outputs": [],
   "source": [
    "def get_file_paths(folder_path):\n",
    "    # 建立一個空列表來存儲所有音樂文件的完整路徑\n",
    "    file_paths = []\n",
    "\n",
    "    # 遍歷指定資料夾下的子資料夾\n",
    "    for genre_folder in os.listdir(folder_path):\n",
    "        genre_folder_path = os.path.join(folder_path, genre_folder)\n",
    "        # 確保是目錄\n",
    "        if os.path.isdir(genre_folder_path):\n",
    "            # 遍歷每個音樂類型的資料夾\n",
    "            for file_name in os.listdir(genre_folder_path):\n",
    "                # 確保是音樂文件\n",
    "                if file_name.endswith('.wav'):\n",
    "                    # 將音樂文件的完整路徑添加到列表中\n",
    "                    file_path = os.path.join(genre_folder_path, file_name)\n",
    "                    file_paths.append(file_path)\n",
    "    return file_paths\n",
    "\n",
    "folder_path = 'music_genre'\n",
    "file_paths = get_file_paths(folder_path) #一個類型50個音檔, 十個類型共500個音檔"
   ]
  },
  {
   "cell_type": "markdown",
   "metadata": {},
   "source": [
    "## 2. 特徵提取"
   ]
  },
  {
   "cell_type": "code",
   "execution_count": 4,
   "metadata": {},
   "outputs": [],
   "source": [
    "def extract_mfcc_features(file_path):\n",
    "    # 使用librosa庫讀取音樂文件\n",
    "    y, sr = librosa.load(file_path)\n",
    "    # 提取音頻特徵，這裡以MFCC為例\n",
    "    mfccs = librosa.feature.mfcc(y=y, sr=sr, n_mfcc=13)\n",
    "    # 將特徵矩陣攤平成一維向量\n",
    "    flattened_features = np.mean(mfccs.T, axis=0)  # 可以使用其他特徵或組合特徵\n",
    "    return flattened_features\n",
    "\n",
    "def extract_fft_features(file_path):\n",
    "    # 使用librosa庫讀取音樂文件\n",
    "    y, sr = librosa.load(file_path)\n",
    "    # 計算FFT\n",
    "    fft_features = np.abs(librosa.stft(y))\n",
    "    # 將FFT特徵攤平成一維向量\n",
    "    flattened_features = np.mean(fft_features, axis=1)\n",
    "    return flattened_features\n",
    "\n",
    "def extract_rhythm_features(file_path):\n",
    "    # 使用librosa庫讀取音樂文件\n",
    "    y, sr = librosa.load(file_path)\n",
    "    # 提取節奏特徵\n",
    "    rhythm_features = librosa.feature.tempogram(y=y, sr=sr)\n",
    "    # 將節奏特徵攤平成一維向量\n",
    "    flattened_features = np.mean(rhythm_features, axis=1)\n",
    "    return flattened_features\n",
    "\n",
    "def extract_pitch_features(file_path):\n",
    "    # 使用librosa庫讀取音樂文件\n",
    "    y, sr = librosa.load(file_path)\n",
    "    # 提取音高輪廓\n",
    "    pitches, magnitudes = librosa.piptrack(y=y, sr=sr)\n",
    "    # 將音高輪廓特徵攤平成一維向量\n",
    "    flattened_features = np.mean(pitches, axis=1)\n",
    "    return flattened_features\n",
    "\n",
    "def extract_all_features(file_path):\n",
    "    flattened_features = []\n",
    "    # 使用librosa庫讀取音樂文件\n",
    "    y, sr = librosa.load(file_path)\n",
    "\n",
    "    mfccs = librosa.feature.mfcc(y=y, sr=sr, n_mfcc=13)\n",
    "    flattened_features_mfcc = np.mean(mfccs.T, axis=0)  # 可以使用其他特徵或組合特徵\n",
    "\n",
    "    fft_features = np.abs(librosa.stft(y))\n",
    "    flattened_features_fft = np.mean(fft_features, axis=1)\n",
    "\n",
    "    rhythm_features = librosa.feature.tempogram(y=y, sr=sr)\n",
    "    flattened_features_rhythm = np.mean(rhythm_features, axis=1)\n",
    "\n",
    "    pitches, magnitudes = librosa.piptrack(y=y, sr=sr)\n",
    "    flattened_features_pitch = np.mean(pitches, axis=1)\n",
    "\n",
    "    flattened_features.extend(flattened_features_mfcc)\n",
    "    flattened_features.extend(flattened_features_fft)\n",
    "    flattened_features.extend(flattened_features_rhythm)\n",
    "    flattened_features.extend(flattened_features_pitch)\n",
    "\n",
    "    return flattened_features\n",
    "\n",
    "def load_data(file_paths, extract_features):\n",
    "    features = []\n",
    "    labels = []\n",
    "    for path in file_paths:\n",
    "        # 提取特徵\n",
    "        features.append(extract_features(path))\n",
    "\n",
    "        label = path.split('/')[1]  # 假設文件路徑為'music_genre/disco/disco.00049.wav'\n",
    "        labels.append(label)\n",
    "    return np.array(features), np.array(labels)"
   ]
  },
  {
   "cell_type": "code",
   "execution_count": 4,
   "metadata": {},
   "outputs": [],
   "source": [
    "feature_extraction_methods = {\n",
    "      'mfcc': 'extract_mfcc_features',\n",
    "       'fft': 'extract_fft_features',\n",
    "    'rhythm': 'extract_rhythm_features',\n",
    "     'pitch': 'extract_pitch_features',\n",
    "       'all': 'extract_all_features'\n",
    "}"
   ]
  },
  {
   "cell_type": "markdown",
   "metadata": {},
   "source": [
    "## 3. 建立模型"
   ]
  },
  {
   "cell_type": "code",
   "execution_count": 5,
   "metadata": {},
   "outputs": [],
   "source": [
    "models = {\n",
    "    'LogisticRegression': LogisticRegression(max_iter=1000, solver='liblinear', random_state=42),\n",
    "    'RandomForest': RandomForestClassifier(n_estimators=100, random_state=42),\n",
    "    'GradientBoosting': GradientBoostingClassifier(random_state=42),\n",
    "    'AdaBoost': AdaBoostClassifier(random_state=42),\n",
    "    'SVM': SVC(kernel='rbf', random_state=42),\n",
    "    'KNN': KNeighborsClassifier(n_neighbors=5),\n",
    "    # 'XGBoost': xgb.XGBClassifier(),\n",
    "    # 'LightGBM': lgb.LGBMClassifier(),\n",
    "    # 'CatBoost': CatBoostClassifier()\n",
    "}"
   ]
  },
  {
   "cell_type": "markdown",
   "metadata": {},
   "source": [
    "## 4. 選擇模型\n",
    "- 透過 5-fold Cross Validation 來決定較佳的模型與特徵提取方法"
   ]
  },
  {
   "cell_type": "code",
   "execution_count": 6,
   "metadata": {},
   "outputs": [],
   "source": [
    "music_genres = ['blues', 'classical', 'country', 'disco', 'hiphop', 'jazz', 'metal', 'pop', 'reggae', 'rock']\n",
    "genre_to_int = {genre: i for i, genre in enumerate(music_genres)}"
   ]
  },
  {
   "cell_type": "code",
   "execution_count": 7,
   "metadata": {},
   "outputs": [
    {
     "name": "stdout",
     "output_type": "stream",
     "text": [
      "------------------------------------------------------\n",
      "num of features: 13 \n",
      "\n",
      "mfcc with LogisticRegression - Average accuracy: 0.632\n",
      "mfcc with RandomForest - Average accuracy: 0.656\n",
      "mfcc with GradientBoosting - Average accuracy: 0.592\n",
      "mfcc with AdaBoost - Average accuracy: 0.264\n",
      "mfcc with SVM - Average accuracy: 0.660\n",
      "mfcc with KNN - Average accuracy: 0.628\n",
      "------------------------------------------------------\n",
      "num of features: 1025 \n",
      "\n",
      "fft with LogisticRegression - Average accuracy: 0.624\n",
      "fft with RandomForest - Average accuracy: 0.648\n",
      "fft with GradientBoosting - Average accuracy: 0.642\n",
      "fft with AdaBoost - Average accuracy: 0.164\n",
      "fft with SVM - Average accuracy: 0.584\n",
      "fft with KNN - Average accuracy: 0.602\n",
      "------------------------------------------------------\n",
      "num of features: 384 \n",
      "\n",
      "rhythm with LogisticRegression - Average accuracy: 0.320\n",
      "rhythm with RandomForest - Average accuracy: 0.398\n",
      "rhythm with GradientBoosting - Average accuracy: 0.384\n",
      "rhythm with AdaBoost - Average accuracy: 0.226\n",
      "rhythm with SVM - Average accuracy: 0.364\n",
      "rhythm with KNN - Average accuracy: 0.254\n",
      "------------------------------------------------------\n",
      "num of features: 1025 \n",
      "\n",
      "pitch with LogisticRegression - Average accuracy: 0.488\n",
      "pitch with RandomForest - Average accuracy: 0.480\n",
      "pitch with GradientBoosting - Average accuracy: 0.492\n",
      "pitch with AdaBoost - Average accuracy: 0.268\n",
      "pitch with SVM - Average accuracy: 0.528\n",
      "pitch with KNN - Average accuracy: 0.492\n",
      "------------------------------------------------------\n",
      "num of features: 2447 \n",
      "\n",
      "all with LogisticRegression - Average accuracy: 0.672\n",
      "all with RandomForest - Average accuracy: 0.676\n",
      "all with GradientBoosting - Average accuracy: 0.664\n",
      "all with AdaBoost - Average accuracy: 0.186\n",
      "all with SVM - Average accuracy: 0.674\n",
      "all with KNN - Average accuracy: 0.580\n"
     ]
    }
   ],
   "source": [
    "# 定義 5-fold 交叉驗證\n",
    "kf = StratifiedKFold(n_splits=5, shuffle=True, random_state=42)\n",
    "\n",
    "# 遍歷所有特徵提取方法和模型組合\n",
    "for feature_method_name, feature_method in feature_extraction_methods.items():\n",
    "    # 提取特徵\n",
    "    X, y = load_data(file_paths, eval(feature_method))\n",
    "    print('------------------------------------------------------')\n",
    "    print('num of features:',len(X[0]),'\\n')\n",
    "\n",
    "    for model_name, model in models.items():\n",
    "        accuracies = []\n",
    "         \n",
    "        # 遍歷每個 fold\n",
    "        for train_index, test_index in kf.split(X, y):\n",
    "            X_train, X_test = X[train_index], X[test_index]\n",
    "            y_train, y_test = y[train_index], y[test_index]\n",
    "\n",
    "            # 對數據進行特徵縮放\n",
    "            scaler = StandardScaler()\n",
    "            X_train = scaler.fit_transform(X_train)\n",
    "            X_test  = scaler.transform(X_test)\n",
    "            \n",
    "            # 將音樂類型轉換為整數\n",
    "            # y_train = [genre_to_int[genre] for genre in y_train]\n",
    "            # y_test  = [genre_to_int[genre] for genre in y_test]\n",
    "\n",
    "            # 訓練模型\n",
    "            model.fit(X_train, y_train)\n",
    "            \n",
    "            # 預測並計算準確率\n",
    "            y_pred = model.predict(X_test)\n",
    "            accuracy = accuracy_score(y_test, y_pred)\n",
    "            accuracies.append(accuracy)\n",
    "        \n",
    "        # 輸出每個 fold 的準確率\n",
    "        print(f\"{feature_method_name} with {model_name} - Average accuracy: {np.mean(accuracies):.3f}\")"
   ]
  },
  {
   "cell_type": "markdown",
   "metadata": {},
   "source": [
    "## 5. 選擇超參數\n",
    "- 透過 5-fold Cross Validation 來決定模型的超參數"
   ]
  },
  {
   "cell_type": "code",
   "execution_count": 9,
   "metadata": {},
   "outputs": [
    {
     "name": "stderr",
     "output_type": "stream",
     "text": [
      "/home/re6121011/miniconda3/envs/Roy/lib/python3.8/site-packages/sklearn/model_selection/_search.py:979: UserWarning: One or more of the test scores are non-finite: [   nan    nan    nan ... 0.65   0.655  0.6525]\n",
      "  warnings.warn(\n"
     ]
    },
    {
     "name": "stdout",
     "output_type": "stream",
     "text": [
      "Best Parameters: {'criterion': 'gini', 'max_depth': None, 'max_features': 'sqrt', 'min_samples_leaf': 2, 'min_samples_split': 5, 'n_estimators': 200}\n"
     ]
    }
   ],
   "source": [
    "X, y = load_data(file_paths, extract_all_features)\n",
    "\n",
    "# 将数据拆分为训练集和测试集\n",
    "X_train, X_test, y_train, y_test = train_test_split(X, y, test_size=0.2, random_state=42)\n",
    "\n",
    "model = RandomForestClassifier(random_state=42)\n",
    "\n",
    "# 定义要调优的超参数范围\n",
    "param_grid = {\n",
    "    'n_estimators': [50, 100, 200, 300],  # 决策树的数量\n",
    "    'max_depth': [None, 5, 10, 20, 30],  # 树的最大深度\n",
    "    'min_samples_split': [2, 5, 10],  # 节点分裂所需的最小样本数\n",
    "    'min_samples_leaf': [1, 2, 4],  # 叶节点所需的最小样本数\n",
    "    'max_features': ['auto', 'sqrt', 'log2'],  # 每个节点分裂时考虑的最大特征数\n",
    "    'criterion': ['gini', 'entropy'],  # 分裂节点时的评估准则\n",
    "    # 其他超参数可以继续添加\n",
    "}\n",
    "\n",
    "# 使用GridSearchCV进行超参数搜索\n",
    "grid_search = GridSearchCV(model, param_grid, cv=5, scoring='accuracy')\n",
    "grid_search.fit(X_train, y_train)\n",
    "\n",
    "# 输出最佳参数组合\n",
    "print(\"Best Parameters:\", grid_search.best_params_)\n"
   ]
  },
  {
   "cell_type": "markdown",
   "metadata": {},
   "source": [
    "## 6. 配適最終模型"
   ]
  },
  {
   "cell_type": "code",
   "execution_count": 21,
   "metadata": {},
   "outputs": [
    {
     "name": "stdout",
     "output_type": "stream",
     "text": [
      "Test Accuracy: 0.67\n"
     ]
    }
   ],
   "source": [
    "best_model = grid_search.best_estimator_\n",
    "y_pred = best_model.predict(X_test)\n",
    "accuracy = accuracy_score(y_test, y_pred)\n",
    "print(\"Test Accuracy:\", accuracy)"
   ]
  },
  {
   "cell_type": "code",
   "execution_count": 22,
   "metadata": {},
   "outputs": [
    {
     "name": "stdout",
     "output_type": "stream",
     "text": [
      "Test Accuracy: 0.69\n"
     ]
    }
   ],
   "source": [
    "model = RandomForestClassifier(n_estimators=100,\n",
    "                               criterion='gini',\n",
    "                               max_depth=None,\n",
    "                               min_samples_leaf=1,\n",
    "                               min_samples_split=2,\n",
    "                               max_features='sqrt',\n",
    "                               random_state=42)\n",
    "model.fit(X_train, y_train)\n",
    "y_pred = model.predict(X_test)\n",
    "accuracy = accuracy_score(y_test, y_pred)\n",
    "print(\"Test Accuracy:\", accuracy)"
   ]
  },
  {
   "cell_type": "markdown",
   "metadata": {},
   "source": [
    "## 7. 視覺化"
   ]
  },
  {
   "cell_type": "code",
   "execution_count": 24,
   "metadata": {},
   "outputs": [
    {
     "data": {
      "image/png": "[encoded data removed]",
      "text/plain": [
       "<Figure size 1000x800 with 1 Axes>"
      ]
     },
     "metadata": {},
     "output_type": "display_data"
    }
   ],
   "source": [
    "# 定義類別標籤\n",
    "class_labels = np.unique(y)\n",
    "\n",
    "# 計算混淆矩陣\n",
    "conf_matrix = confusion_matrix(y_test, y_pred)\n",
    "\n",
    "# 將混淆矩陣視覺化\n",
    "plt.figure(figsize=(10, 8))\n",
    "sns.heatmap(conf_matrix, annot=True, fmt='d', cmap='Blues', cbar=False)\n",
    "plt.xlabel('Predicted labels')\n",
    "plt.ylabel('True labels')\n",
    "plt.title('Confusion Matrix')\n",
    "plt.xticks(ticks=np.arange(len(class_labels))+0.5, labels=class_labels)\n",
    "plt.yticks(ticks=np.arange(len(class_labels))+0.5, labels=class_labels)\n",
    "plt.show()"
   ]
  }
 ],
 "metadata": {
  "kernelspec": {
   "display_name": "Roy",
   "language": "python",
   "name": "python3"
  },
  "language_info": {
   "codemirror_mode": {
    "name": "ipython",
    "version": 3
   },
   "file_extension": ".py",
   "mimetype": "text/x-python",
   "name": "python",
   "nbconvert_exporter": "python",
   "pygments_lexer": "ipython3",
   "version": "3.11.5"
  }
 },
 "nbformat": 4,
 "nbformat_minor": 2
}
